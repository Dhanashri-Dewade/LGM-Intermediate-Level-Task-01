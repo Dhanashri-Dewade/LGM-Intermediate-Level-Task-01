{
 "cells": [
  {
   "cell_type": "markdown",
   "id": "2274e8ae",
   "metadata": {},
   "source": [
    "## Name- Dhanashri Narayan Dewade"
   ]
  },
  {
   "cell_type": "markdown",
   "id": "a3891064",
   "metadata": {},
   "source": [
    "# @LetsGrowMore! Internship"
   ]
  },
  {
   "cell_type": "markdown",
   "id": "cdeeed84",
   "metadata": {},
   "source": [
    "##  Intermediate level Task 1- Exploratory Data Analysis On Terrorism Dataset"
   ]
  },
  {
   "cell_type": "code",
   "execution_count": 84,
   "id": "f8d375f8",
   "metadata": {},
   "outputs": [],
   "source": [
    "import numpy as np\n",
    "import pandas as pd\n",
    "import matplotlib.pyplot as plt\n",
    "import seaborn as sns\n",
    "import warnings\n",
    "warnings.filterwarnings(\"ignore\")"
   ]
  },
  {
   "cell_type": "code",
   "execution_count": 85,
   "id": "494451d1",
   "metadata": {},
   "outputs": [],
   "source": [
    "#import terrorism dataset\n",
    "data=pd.read_csv('terrorism.csv')"
   ]
  },
  {
   "cell_type": "code",
   "execution_count": 86,
   "id": "674be2a0",
   "metadata": {},
   "outputs": [
    {
     "data": {
      "text/html": [
       "<div>\n",
       "<style scoped>\n",
       "    .dataframe tbody tr th:only-of-type {\n",
       "        vertical-align: middle;\n",
       "    }\n",
       "\n",
       "    .dataframe tbody tr th {\n",
       "        vertical-align: top;\n",
       "    }\n",
       "\n",
       "    .dataframe thead th {\n",
       "        text-align: right;\n",
       "    }\n",
       "</style>\n",
       "<table border=\"1\" class=\"dataframe\">\n",
       "  <thead>\n",
       "    <tr style=\"text-align: right;\">\n",
       "      <th></th>\n",
       "      <th>eventid</th>\n",
       "      <th>iyear</th>\n",
       "      <th>imonth</th>\n",
       "      <th>iday</th>\n",
       "      <th>approxdate</th>\n",
       "      <th>extended</th>\n",
       "      <th>resolution</th>\n",
       "      <th>country</th>\n",
       "      <th>country_txt</th>\n",
       "      <th>region</th>\n",
       "      <th>...</th>\n",
       "      <th>addnotes</th>\n",
       "      <th>scite1</th>\n",
       "      <th>scite2</th>\n",
       "      <th>scite3</th>\n",
       "      <th>dbsource</th>\n",
       "      <th>INT_LOG</th>\n",
       "      <th>INT_IDEO</th>\n",
       "      <th>INT_MISC</th>\n",
       "      <th>INT_ANY</th>\n",
       "      <th>related</th>\n",
       "    </tr>\n",
       "  </thead>\n",
       "  <tbody>\n",
       "    <tr>\n",
       "      <th>0</th>\n",
       "      <td>197000000001</td>\n",
       "      <td>1970</td>\n",
       "      <td>7</td>\n",
       "      <td>2</td>\n",
       "      <td>NaN</td>\n",
       "      <td>0</td>\n",
       "      <td>NaN</td>\n",
       "      <td>58</td>\n",
       "      <td>Dominican Republic</td>\n",
       "      <td>2</td>\n",
       "      <td>...</td>\n",
       "      <td>NaN</td>\n",
       "      <td>NaN</td>\n",
       "      <td>NaN</td>\n",
       "      <td>NaN</td>\n",
       "      <td>PGIS</td>\n",
       "      <td>0</td>\n",
       "      <td>0</td>\n",
       "      <td>0</td>\n",
       "      <td>0</td>\n",
       "      <td>NaN</td>\n",
       "    </tr>\n",
       "    <tr>\n",
       "      <th>1</th>\n",
       "      <td>197000000002</td>\n",
       "      <td>1970</td>\n",
       "      <td>0</td>\n",
       "      <td>0</td>\n",
       "      <td>NaN</td>\n",
       "      <td>0</td>\n",
       "      <td>NaN</td>\n",
       "      <td>130</td>\n",
       "      <td>Mexico</td>\n",
       "      <td>1</td>\n",
       "      <td>...</td>\n",
       "      <td>NaN</td>\n",
       "      <td>NaN</td>\n",
       "      <td>NaN</td>\n",
       "      <td>NaN</td>\n",
       "      <td>PGIS</td>\n",
       "      <td>0</td>\n",
       "      <td>1</td>\n",
       "      <td>1</td>\n",
       "      <td>1</td>\n",
       "      <td>NaN</td>\n",
       "    </tr>\n",
       "    <tr>\n",
       "      <th>2</th>\n",
       "      <td>197001000001</td>\n",
       "      <td>1970</td>\n",
       "      <td>1</td>\n",
       "      <td>0</td>\n",
       "      <td>NaN</td>\n",
       "      <td>0</td>\n",
       "      <td>NaN</td>\n",
       "      <td>160</td>\n",
       "      <td>Philippines</td>\n",
       "      <td>5</td>\n",
       "      <td>...</td>\n",
       "      <td>NaN</td>\n",
       "      <td>NaN</td>\n",
       "      <td>NaN</td>\n",
       "      <td>NaN</td>\n",
       "      <td>PGIS</td>\n",
       "      <td>-9</td>\n",
       "      <td>-9</td>\n",
       "      <td>1</td>\n",
       "      <td>1</td>\n",
       "      <td>NaN</td>\n",
       "    </tr>\n",
       "    <tr>\n",
       "      <th>3</th>\n",
       "      <td>197001000002</td>\n",
       "      <td>1970</td>\n",
       "      <td>1</td>\n",
       "      <td>0</td>\n",
       "      <td>NaN</td>\n",
       "      <td>0</td>\n",
       "      <td>NaN</td>\n",
       "      <td>78</td>\n",
       "      <td>Greece</td>\n",
       "      <td>8</td>\n",
       "      <td>...</td>\n",
       "      <td>NaN</td>\n",
       "      <td>NaN</td>\n",
       "      <td>NaN</td>\n",
       "      <td>NaN</td>\n",
       "      <td>PGIS</td>\n",
       "      <td>-9</td>\n",
       "      <td>-9</td>\n",
       "      <td>1</td>\n",
       "      <td>1</td>\n",
       "      <td>NaN</td>\n",
       "    </tr>\n",
       "    <tr>\n",
       "      <th>4</th>\n",
       "      <td>197001000003</td>\n",
       "      <td>1970</td>\n",
       "      <td>1</td>\n",
       "      <td>0</td>\n",
       "      <td>NaN</td>\n",
       "      <td>0</td>\n",
       "      <td>NaN</td>\n",
       "      <td>101</td>\n",
       "      <td>Japan</td>\n",
       "      <td>4</td>\n",
       "      <td>...</td>\n",
       "      <td>NaN</td>\n",
       "      <td>NaN</td>\n",
       "      <td>NaN</td>\n",
       "      <td>NaN</td>\n",
       "      <td>PGIS</td>\n",
       "      <td>-9</td>\n",
       "      <td>-9</td>\n",
       "      <td>1</td>\n",
       "      <td>1</td>\n",
       "      <td>NaN</td>\n",
       "    </tr>\n",
       "  </tbody>\n",
       "</table>\n",
       "<p>5 rows × 135 columns</p>\n",
       "</div>"
      ],
      "text/plain": [
       "        eventid  iyear  imonth  iday approxdate  extended resolution  country  \\\n",
       "0  197000000001   1970       7     2        NaN         0        NaN       58   \n",
       "1  197000000002   1970       0     0        NaN         0        NaN      130   \n",
       "2  197001000001   1970       1     0        NaN         0        NaN      160   \n",
       "3  197001000002   1970       1     0        NaN         0        NaN       78   \n",
       "4  197001000003   1970       1     0        NaN         0        NaN      101   \n",
       "\n",
       "          country_txt  region  ... addnotes scite1 scite2  scite3  dbsource  \\\n",
       "0  Dominican Republic       2  ...      NaN    NaN    NaN     NaN      PGIS   \n",
       "1              Mexico       1  ...      NaN    NaN    NaN     NaN      PGIS   \n",
       "2         Philippines       5  ...      NaN    NaN    NaN     NaN      PGIS   \n",
       "3              Greece       8  ...      NaN    NaN    NaN     NaN      PGIS   \n",
       "4               Japan       4  ...      NaN    NaN    NaN     NaN      PGIS   \n",
       "\n",
       "   INT_LOG  INT_IDEO INT_MISC INT_ANY  related  \n",
       "0        0         0        0       0      NaN  \n",
       "1        0         1        1       1      NaN  \n",
       "2       -9        -9        1       1      NaN  \n",
       "3       -9        -9        1       1      NaN  \n",
       "4       -9        -9        1       1      NaN  \n",
       "\n",
       "[5 rows x 135 columns]"
      ]
     },
     "execution_count": 86,
     "metadata": {},
     "output_type": "execute_result"
    }
   ],
   "source": [
    "data.head()"
   ]
  },
  {
   "cell_type": "code",
   "execution_count": 87,
   "id": "f55a2ef3",
   "metadata": {},
   "outputs": [
    {
     "data": {
      "text/plain": [
       "(181691, 135)"
      ]
     },
     "execution_count": 87,
     "metadata": {},
     "output_type": "execute_result"
    }
   ],
   "source": [
    "data.shape"
   ]
  },
  {
   "cell_type": "code",
   "execution_count": 88,
   "id": "b9f8d6bf",
   "metadata": {},
   "outputs": [
    {
     "data": {
      "text/plain": [
       "Index(['eventid', 'iyear', 'imonth', 'iday', 'approxdate', 'extended',\n",
       "       'resolution', 'country', 'country_txt', 'region',\n",
       "       ...\n",
       "       'addnotes', 'scite1', 'scite2', 'scite3', 'dbsource', 'INT_LOG',\n",
       "       'INT_IDEO', 'INT_MISC', 'INT_ANY', 'related'],\n",
       "      dtype='object', length=135)"
      ]
     },
     "execution_count": 88,
     "metadata": {},
     "output_type": "execute_result"
    }
   ],
   "source": [
    "data.columns"
   ]
  },
  {
   "cell_type": "code",
   "execution_count": 89,
   "id": "82008b11",
   "metadata": {},
   "outputs": [
    {
     "data": {
      "text/plain": [
       "135"
      ]
     },
     "execution_count": 89,
     "metadata": {},
     "output_type": "execute_result"
    }
   ],
   "source": [
    "data.columns.nunique()"
   ]
  },
  {
   "cell_type": "markdown",
   "id": "d2c4167e",
   "metadata": {},
   "source": [
    "**There are a total of 135 columns in the data**"
   ]
  },
  {
   "cell_type": "markdown",
   "id": "0c31f56b",
   "metadata": {},
   "source": [
    "**Rename some columns which we are going to use for analysis.**"
   ]
  },
  {
   "cell_type": "code",
   "execution_count": 129,
   "id": "b4c77813",
   "metadata": {},
   "outputs": [],
   "source": [
    "#let's rename some important columns\n",
    "data=data.rename(columns={'iyear':'Year','imonth':'Month','iday':'Day','country_txt':'Country','region_txt':'Region',\n",
    "                             'provstate':'State','city':'City','attacktype1_txt':'Attack_type','targtype1_txt':'Target_type',\n",
    "                             'targsubtype1_txt':'Target_subtype','gname':'Gang_name','weaptype1_txt':'Weapon_type'})\n"
   ]
  },
  {
   "cell_type": "code",
   "execution_count": 130,
   "id": "6c749efd",
   "metadata": {},
   "outputs": [
    {
     "data": {
      "text/html": [
       "<div>\n",
       "<style scoped>\n",
       "    .dataframe tbody tr th:only-of-type {\n",
       "        vertical-align: middle;\n",
       "    }\n",
       "\n",
       "    .dataframe tbody tr th {\n",
       "        vertical-align: top;\n",
       "    }\n",
       "\n",
       "    .dataframe thead th {\n",
       "        text-align: right;\n",
       "    }\n",
       "</style>\n",
       "<table border=\"1\" class=\"dataframe\">\n",
       "  <thead>\n",
       "    <tr style=\"text-align: right;\">\n",
       "      <th></th>\n",
       "      <th>Year</th>\n",
       "      <th>Month</th>\n",
       "      <th>Day</th>\n",
       "      <th>Country</th>\n",
       "      <th>Region</th>\n",
       "      <th>State</th>\n",
       "      <th>City</th>\n",
       "      <th>Attack_type</th>\n",
       "      <th>Target_type</th>\n",
       "      <th>Target_subtype</th>\n",
       "      <th>Gang_name</th>\n",
       "      <th>Weapon_type</th>\n",
       "    </tr>\n",
       "  </thead>\n",
       "  <tbody>\n",
       "    <tr>\n",
       "      <th>0</th>\n",
       "      <td>1970</td>\n",
       "      <td>7</td>\n",
       "      <td>2</td>\n",
       "      <td>Dominican Republic</td>\n",
       "      <td>Central America &amp; Caribbean</td>\n",
       "      <td>unknown</td>\n",
       "      <td>Santo Domingo</td>\n",
       "      <td>Assassination</td>\n",
       "      <td>Private Citizens &amp; Property</td>\n",
       "      <td>Named Civilian</td>\n",
       "      <td>MANO-D</td>\n",
       "      <td>Unknown</td>\n",
       "    </tr>\n",
       "    <tr>\n",
       "      <th>1</th>\n",
       "      <td>1970</td>\n",
       "      <td>0</td>\n",
       "      <td>0</td>\n",
       "      <td>Mexico</td>\n",
       "      <td>North America</td>\n",
       "      <td>Federal</td>\n",
       "      <td>Mexico city</td>\n",
       "      <td>Hostage Taking (Kidnapping)</td>\n",
       "      <td>Government (Diplomatic)</td>\n",
       "      <td>Diplomatic Personnel (outside of embassy, cons...</td>\n",
       "      <td>23rd of September Communist League</td>\n",
       "      <td>Unknown</td>\n",
       "    </tr>\n",
       "    <tr>\n",
       "      <th>2</th>\n",
       "      <td>1970</td>\n",
       "      <td>1</td>\n",
       "      <td>0</td>\n",
       "      <td>Philippines</td>\n",
       "      <td>Southeast Asia</td>\n",
       "      <td>Tarlac</td>\n",
       "      <td>Unknown</td>\n",
       "      <td>Assassination</td>\n",
       "      <td>Journalists &amp; Media</td>\n",
       "      <td>Radio Journalist/Staff/Facility</td>\n",
       "      <td>Unknown</td>\n",
       "      <td>Unknown</td>\n",
       "    </tr>\n",
       "    <tr>\n",
       "      <th>3</th>\n",
       "      <td>1970</td>\n",
       "      <td>1</td>\n",
       "      <td>0</td>\n",
       "      <td>Greece</td>\n",
       "      <td>Western Europe</td>\n",
       "      <td>Attica</td>\n",
       "      <td>Athens</td>\n",
       "      <td>Bombing/Explosion</td>\n",
       "      <td>Government (Diplomatic)</td>\n",
       "      <td>Embassy/Consulate</td>\n",
       "      <td>Unknown</td>\n",
       "      <td>Explosives</td>\n",
       "    </tr>\n",
       "    <tr>\n",
       "      <th>4</th>\n",
       "      <td>1970</td>\n",
       "      <td>1</td>\n",
       "      <td>0</td>\n",
       "      <td>Japan</td>\n",
       "      <td>East Asia</td>\n",
       "      <td>Fukouka</td>\n",
       "      <td>Fukouka</td>\n",
       "      <td>Facility/Infrastructure Attack</td>\n",
       "      <td>Government (Diplomatic)</td>\n",
       "      <td>Embassy/Consulate</td>\n",
       "      <td>Unknown</td>\n",
       "      <td>Incendiary</td>\n",
       "    </tr>\n",
       "  </tbody>\n",
       "</table>\n",
       "</div>"
      ],
      "text/plain": [
       "   Year  Month  Day             Country                       Region    State  \\\n",
       "0  1970      7    2  Dominican Republic  Central America & Caribbean  unknown   \n",
       "1  1970      0    0              Mexico                North America  Federal   \n",
       "2  1970      1    0         Philippines               Southeast Asia   Tarlac   \n",
       "3  1970      1    0              Greece               Western Europe   Attica   \n",
       "4  1970      1    0               Japan                    East Asia  Fukouka   \n",
       "\n",
       "            City                     Attack_type                  Target_type  \\\n",
       "0  Santo Domingo                   Assassination  Private Citizens & Property   \n",
       "1    Mexico city     Hostage Taking (Kidnapping)      Government (Diplomatic)   \n",
       "2        Unknown                   Assassination          Journalists & Media   \n",
       "3         Athens               Bombing/Explosion      Government (Diplomatic)   \n",
       "4        Fukouka  Facility/Infrastructure Attack      Government (Diplomatic)   \n",
       "\n",
       "                                      Target_subtype  \\\n",
       "0                                     Named Civilian   \n",
       "1  Diplomatic Personnel (outside of embassy, cons...   \n",
       "2                    Radio Journalist/Staff/Facility   \n",
       "3                                  Embassy/Consulate   \n",
       "4                                  Embassy/Consulate   \n",
       "\n",
       "                            Gang_name Weapon_type  \n",
       "0                              MANO-D     Unknown  \n",
       "1  23rd of September Communist League     Unknown  \n",
       "2                             Unknown     Unknown  \n",
       "3                             Unknown  Explosives  \n",
       "4                             Unknown  Incendiary  "
      ]
     },
     "execution_count": 130,
     "metadata": {},
     "output_type": "execute_result"
    }
   ],
   "source": [
    "data.head()"
   ]
  },
  {
   "cell_type": "markdown",
   "id": "4a5fd3bf",
   "metadata": {},
   "source": [
    "**column names are updated**"
   ]
  },
  {
   "cell_type": "markdown",
   "id": "2ddea057",
   "metadata": {},
   "source": [
    "**Now take only those columns which are required for analysis in the dataset.**"
   ]
  },
  {
   "cell_type": "code",
   "execution_count": 131,
   "id": "4ed1b58a",
   "metadata": {},
   "outputs": [],
   "source": [
    "data=data[['Year','Month','Day','Country','Region','State','City','Attack_type','Target_type','Target_subtype','Gang_name','Weapon_type']]\n"
   ]
  },
  {
   "cell_type": "code",
   "execution_count": 132,
   "id": "c7beb4e8",
   "metadata": {},
   "outputs": [
    {
     "data": {
      "text/html": [
       "<div>\n",
       "<style scoped>\n",
       "    .dataframe tbody tr th:only-of-type {\n",
       "        vertical-align: middle;\n",
       "    }\n",
       "\n",
       "    .dataframe tbody tr th {\n",
       "        vertical-align: top;\n",
       "    }\n",
       "\n",
       "    .dataframe thead th {\n",
       "        text-align: right;\n",
       "    }\n",
       "</style>\n",
       "<table border=\"1\" class=\"dataframe\">\n",
       "  <thead>\n",
       "    <tr style=\"text-align: right;\">\n",
       "      <th></th>\n",
       "      <th>Year</th>\n",
       "      <th>Month</th>\n",
       "      <th>Day</th>\n",
       "      <th>Country</th>\n",
       "      <th>Region</th>\n",
       "      <th>State</th>\n",
       "      <th>City</th>\n",
       "      <th>Attack_type</th>\n",
       "      <th>Target_type</th>\n",
       "      <th>Target_subtype</th>\n",
       "      <th>Gang_name</th>\n",
       "      <th>Weapon_type</th>\n",
       "    </tr>\n",
       "  </thead>\n",
       "  <tbody>\n",
       "    <tr>\n",
       "      <th>0</th>\n",
       "      <td>1970</td>\n",
       "      <td>7</td>\n",
       "      <td>2</td>\n",
       "      <td>Dominican Republic</td>\n",
       "      <td>Central America &amp; Caribbean</td>\n",
       "      <td>unknown</td>\n",
       "      <td>Santo Domingo</td>\n",
       "      <td>Assassination</td>\n",
       "      <td>Private Citizens &amp; Property</td>\n",
       "      <td>Named Civilian</td>\n",
       "      <td>MANO-D</td>\n",
       "      <td>Unknown</td>\n",
       "    </tr>\n",
       "    <tr>\n",
       "      <th>1</th>\n",
       "      <td>1970</td>\n",
       "      <td>0</td>\n",
       "      <td>0</td>\n",
       "      <td>Mexico</td>\n",
       "      <td>North America</td>\n",
       "      <td>Federal</td>\n",
       "      <td>Mexico city</td>\n",
       "      <td>Hostage Taking (Kidnapping)</td>\n",
       "      <td>Government (Diplomatic)</td>\n",
       "      <td>Diplomatic Personnel (outside of embassy, cons...</td>\n",
       "      <td>23rd of September Communist League</td>\n",
       "      <td>Unknown</td>\n",
       "    </tr>\n",
       "    <tr>\n",
       "      <th>2</th>\n",
       "      <td>1970</td>\n",
       "      <td>1</td>\n",
       "      <td>0</td>\n",
       "      <td>Philippines</td>\n",
       "      <td>Southeast Asia</td>\n",
       "      <td>Tarlac</td>\n",
       "      <td>Unknown</td>\n",
       "      <td>Assassination</td>\n",
       "      <td>Journalists &amp; Media</td>\n",
       "      <td>Radio Journalist/Staff/Facility</td>\n",
       "      <td>Unknown</td>\n",
       "      <td>Unknown</td>\n",
       "    </tr>\n",
       "    <tr>\n",
       "      <th>3</th>\n",
       "      <td>1970</td>\n",
       "      <td>1</td>\n",
       "      <td>0</td>\n",
       "      <td>Greece</td>\n",
       "      <td>Western Europe</td>\n",
       "      <td>Attica</td>\n",
       "      <td>Athens</td>\n",
       "      <td>Bombing/Explosion</td>\n",
       "      <td>Government (Diplomatic)</td>\n",
       "      <td>Embassy/Consulate</td>\n",
       "      <td>Unknown</td>\n",
       "      <td>Explosives</td>\n",
       "    </tr>\n",
       "    <tr>\n",
       "      <th>4</th>\n",
       "      <td>1970</td>\n",
       "      <td>1</td>\n",
       "      <td>0</td>\n",
       "      <td>Japan</td>\n",
       "      <td>East Asia</td>\n",
       "      <td>Fukouka</td>\n",
       "      <td>Fukouka</td>\n",
       "      <td>Facility/Infrastructure Attack</td>\n",
       "      <td>Government (Diplomatic)</td>\n",
       "      <td>Embassy/Consulate</td>\n",
       "      <td>Unknown</td>\n",
       "      <td>Incendiary</td>\n",
       "    </tr>\n",
       "    <tr>\n",
       "      <th>...</th>\n",
       "      <td>...</td>\n",
       "      <td>...</td>\n",
       "      <td>...</td>\n",
       "      <td>...</td>\n",
       "      <td>...</td>\n",
       "      <td>...</td>\n",
       "      <td>...</td>\n",
       "      <td>...</td>\n",
       "      <td>...</td>\n",
       "      <td>...</td>\n",
       "      <td>...</td>\n",
       "      <td>...</td>\n",
       "    </tr>\n",
       "    <tr>\n",
       "      <th>181686</th>\n",
       "      <td>2017</td>\n",
       "      <td>12</td>\n",
       "      <td>31</td>\n",
       "      <td>Somalia</td>\n",
       "      <td>Sub-Saharan Africa</td>\n",
       "      <td>Middle Shebelle</td>\n",
       "      <td>Ceelka Geelow</td>\n",
       "      <td>Armed Assault</td>\n",
       "      <td>Military</td>\n",
       "      <td>Military Checkpoint</td>\n",
       "      <td>Al-Shabaab</td>\n",
       "      <td>Firearms</td>\n",
       "    </tr>\n",
       "    <tr>\n",
       "      <th>181687</th>\n",
       "      <td>2017</td>\n",
       "      <td>12</td>\n",
       "      <td>31</td>\n",
       "      <td>Syria</td>\n",
       "      <td>Middle East &amp; North Africa</td>\n",
       "      <td>Lattakia</td>\n",
       "      <td>Jableh</td>\n",
       "      <td>Bombing/Explosion</td>\n",
       "      <td>Military</td>\n",
       "      <td>Military Barracks/Base/Headquarters/Checkpost</td>\n",
       "      <td>Muslim extremists</td>\n",
       "      <td>Explosives</td>\n",
       "    </tr>\n",
       "    <tr>\n",
       "      <th>181688</th>\n",
       "      <td>2017</td>\n",
       "      <td>12</td>\n",
       "      <td>31</td>\n",
       "      <td>Philippines</td>\n",
       "      <td>Southeast Asia</td>\n",
       "      <td>Maguindanao</td>\n",
       "      <td>Kubentog</td>\n",
       "      <td>Facility/Infrastructure Attack</td>\n",
       "      <td>Private Citizens &amp; Property</td>\n",
       "      <td>House/Apartment/Residence</td>\n",
       "      <td>Bangsamoro Islamic Freedom Movement (BIFM)</td>\n",
       "      <td>Incendiary</td>\n",
       "    </tr>\n",
       "    <tr>\n",
       "      <th>181689</th>\n",
       "      <td>2017</td>\n",
       "      <td>12</td>\n",
       "      <td>31</td>\n",
       "      <td>India</td>\n",
       "      <td>South Asia</td>\n",
       "      <td>Manipur</td>\n",
       "      <td>Imphal</td>\n",
       "      <td>Bombing/Explosion</td>\n",
       "      <td>Government (General)</td>\n",
       "      <td>Government Building/Facility/Office</td>\n",
       "      <td>Unknown</td>\n",
       "      <td>Explosives</td>\n",
       "    </tr>\n",
       "    <tr>\n",
       "      <th>181690</th>\n",
       "      <td>2017</td>\n",
       "      <td>12</td>\n",
       "      <td>31</td>\n",
       "      <td>Philippines</td>\n",
       "      <td>Southeast Asia</td>\n",
       "      <td>Maguindanao</td>\n",
       "      <td>Cotabato City</td>\n",
       "      <td>Bombing/Explosion</td>\n",
       "      <td>Unknown</td>\n",
       "      <td>others</td>\n",
       "      <td>Unknown</td>\n",
       "      <td>Explosives</td>\n",
       "    </tr>\n",
       "  </tbody>\n",
       "</table>\n",
       "<p>181691 rows × 12 columns</p>\n",
       "</div>"
      ],
      "text/plain": [
       "        Year  Month  Day             Country                       Region  \\\n",
       "0       1970      7    2  Dominican Republic  Central America & Caribbean   \n",
       "1       1970      0    0              Mexico                North America   \n",
       "2       1970      1    0         Philippines               Southeast Asia   \n",
       "3       1970      1    0              Greece               Western Europe   \n",
       "4       1970      1    0               Japan                    East Asia   \n",
       "...      ...    ...  ...                 ...                          ...   \n",
       "181686  2017     12   31             Somalia           Sub-Saharan Africa   \n",
       "181687  2017     12   31               Syria   Middle East & North Africa   \n",
       "181688  2017     12   31         Philippines               Southeast Asia   \n",
       "181689  2017     12   31               India                   South Asia   \n",
       "181690  2017     12   31         Philippines               Southeast Asia   \n",
       "\n",
       "                  State           City                     Attack_type  \\\n",
       "0               unknown  Santo Domingo                   Assassination   \n",
       "1               Federal    Mexico city     Hostage Taking (Kidnapping)   \n",
       "2                Tarlac        Unknown                   Assassination   \n",
       "3                Attica         Athens               Bombing/Explosion   \n",
       "4               Fukouka        Fukouka  Facility/Infrastructure Attack   \n",
       "...                 ...            ...                             ...   \n",
       "181686  Middle Shebelle  Ceelka Geelow                   Armed Assault   \n",
       "181687         Lattakia         Jableh               Bombing/Explosion   \n",
       "181688      Maguindanao       Kubentog  Facility/Infrastructure Attack   \n",
       "181689          Manipur         Imphal               Bombing/Explosion   \n",
       "181690      Maguindanao  Cotabato City               Bombing/Explosion   \n",
       "\n",
       "                        Target_type  \\\n",
       "0       Private Citizens & Property   \n",
       "1           Government (Diplomatic)   \n",
       "2               Journalists & Media   \n",
       "3           Government (Diplomatic)   \n",
       "4           Government (Diplomatic)   \n",
       "...                             ...   \n",
       "181686                     Military   \n",
       "181687                     Military   \n",
       "181688  Private Citizens & Property   \n",
       "181689         Government (General)   \n",
       "181690                      Unknown   \n",
       "\n",
       "                                           Target_subtype  \\\n",
       "0                                          Named Civilian   \n",
       "1       Diplomatic Personnel (outside of embassy, cons...   \n",
       "2                         Radio Journalist/Staff/Facility   \n",
       "3                                       Embassy/Consulate   \n",
       "4                                       Embassy/Consulate   \n",
       "...                                                   ...   \n",
       "181686                                Military Checkpoint   \n",
       "181687      Military Barracks/Base/Headquarters/Checkpost   \n",
       "181688                          House/Apartment/Residence   \n",
       "181689                Government Building/Facility/Office   \n",
       "181690                                             others   \n",
       "\n",
       "                                         Gang_name Weapon_type  \n",
       "0                                           MANO-D     Unknown  \n",
       "1               23rd of September Communist League     Unknown  \n",
       "2                                          Unknown     Unknown  \n",
       "3                                          Unknown  Explosives  \n",
       "4                                          Unknown  Incendiary  \n",
       "...                                            ...         ...  \n",
       "181686                                  Al-Shabaab    Firearms  \n",
       "181687                           Muslim extremists  Explosives  \n",
       "181688  Bangsamoro Islamic Freedom Movement (BIFM)  Incendiary  \n",
       "181689                                     Unknown  Explosives  \n",
       "181690                                     Unknown  Explosives  \n",
       "\n",
       "[181691 rows x 12 columns]"
      ]
     },
     "execution_count": 132,
     "metadata": {},
     "output_type": "execute_result"
    }
   ],
   "source": [
    "data"
   ]
  },
  {
   "cell_type": "markdown",
   "id": "8540a005",
   "metadata": {},
   "source": [
    "**now,dataset is updated**"
   ]
  },
  {
   "cell_type": "markdown",
   "id": "2740ffe9",
   "metadata": {},
   "source": [
    "**Now make some changes that are required for the dataset.**\n",
    "\n",
    "**Fill NaN values in Target_subtype column as Others**"
   ]
  },
  {
   "cell_type": "code",
   "execution_count": 94,
   "id": "e5e570c8",
   "metadata": {},
   "outputs": [],
   "source": [
    "data['Target_subtype']=data['Target_subtype'].fillna('others')"
   ]
  },
  {
   "cell_type": "markdown",
   "id": "49a4b6e3",
   "metadata": {},
   "source": [
    "**Fill NaN values in the State column as Unknown**"
   ]
  },
  {
   "cell_type": "code",
   "execution_count": 133,
   "id": "c807f4a9",
   "metadata": {},
   "outputs": [],
   "source": [
    "data['State']=data['State'].fillna('unknown')"
   ]
  },
  {
   "cell_type": "markdown",
   "id": "22787958",
   "metadata": {},
   "source": [
    "**Fill NaN values in the city column as Unknown**"
   ]
  },
  {
   "cell_type": "code",
   "execution_count": 134,
   "id": "0496603a",
   "metadata": {},
   "outputs": [],
   "source": [
    "data['City']=data['City'].fillna('unknown')"
   ]
  },
  {
   "cell_type": "code",
   "execution_count": 135,
   "id": "db7edfba",
   "metadata": {},
   "outputs": [
    {
     "data": {
      "text/plain": [
       "(181691, 12)"
      ]
     },
     "execution_count": 135,
     "metadata": {},
     "output_type": "execute_result"
    }
   ],
   "source": [
    "data.shape"
   ]
  },
  {
   "cell_type": "markdown",
   "id": "88d3b74e",
   "metadata": {},
   "source": [
    "**Now there are only 12 columns and 181691 rows.**"
   ]
  },
  {
   "cell_type": "code",
   "execution_count": 137,
   "id": "8d1080bb",
   "metadata": {},
   "outputs": [
    {
     "data": {
      "text/plain": [
       "Year              0\n",
       "Month             0\n",
       "Day               0\n",
       "Country           0\n",
       "Region            0\n",
       "State             0\n",
       "City              0\n",
       "Attack_type       0\n",
       "Target_type       0\n",
       "Target_subtype    0\n",
       "Gang_name         0\n",
       "Weapon_type       0\n",
       "dtype: int64"
      ]
     },
     "execution_count": 137,
     "metadata": {},
     "output_type": "execute_result"
    }
   ],
   "source": [
    "data.isnull().sum()"
   ]
  },
  {
   "cell_type": "markdown",
   "id": "0670c426",
   "metadata": {},
   "source": [
    "**There are no null values in the given dataset**"
   ]
  },
  {
   "cell_type": "code",
   "execution_count": 138,
   "id": "d3b0afae",
   "metadata": {},
   "outputs": [
    {
     "data": {
      "text/html": [
       "<div>\n",
       "<style scoped>\n",
       "    .dataframe tbody tr th:only-of-type {\n",
       "        vertical-align: middle;\n",
       "    }\n",
       "\n",
       "    .dataframe tbody tr th {\n",
       "        vertical-align: top;\n",
       "    }\n",
       "\n",
       "    .dataframe thead th {\n",
       "        text-align: right;\n",
       "    }\n",
       "</style>\n",
       "<table border=\"1\" class=\"dataframe\">\n",
       "  <thead>\n",
       "    <tr style=\"text-align: right;\">\n",
       "      <th></th>\n",
       "      <th>Year</th>\n",
       "      <th>Month</th>\n",
       "      <th>Day</th>\n",
       "      <th>Country</th>\n",
       "      <th>Region</th>\n",
       "      <th>State</th>\n",
       "      <th>City</th>\n",
       "      <th>Attack_type</th>\n",
       "      <th>Target_type</th>\n",
       "      <th>Target_subtype</th>\n",
       "      <th>Gang_name</th>\n",
       "      <th>Weapon_type</th>\n",
       "    </tr>\n",
       "  </thead>\n",
       "  <tbody>\n",
       "    <tr>\n",
       "      <th>0</th>\n",
       "      <td>1970</td>\n",
       "      <td>7</td>\n",
       "      <td>2</td>\n",
       "      <td>Dominican Republic</td>\n",
       "      <td>Central America &amp; Caribbean</td>\n",
       "      <td>unknown</td>\n",
       "      <td>Santo Domingo</td>\n",
       "      <td>Assassination</td>\n",
       "      <td>Private Citizens &amp; Property</td>\n",
       "      <td>Named Civilian</td>\n",
       "      <td>MANO-D</td>\n",
       "      <td>Unknown</td>\n",
       "    </tr>\n",
       "    <tr>\n",
       "      <th>1</th>\n",
       "      <td>1970</td>\n",
       "      <td>0</td>\n",
       "      <td>0</td>\n",
       "      <td>Mexico</td>\n",
       "      <td>North America</td>\n",
       "      <td>Federal</td>\n",
       "      <td>Mexico city</td>\n",
       "      <td>Hostage Taking (Kidnapping)</td>\n",
       "      <td>Government (Diplomatic)</td>\n",
       "      <td>Diplomatic Personnel (outside of embassy, cons...</td>\n",
       "      <td>23rd of September Communist League</td>\n",
       "      <td>Unknown</td>\n",
       "    </tr>\n",
       "    <tr>\n",
       "      <th>2</th>\n",
       "      <td>1970</td>\n",
       "      <td>1</td>\n",
       "      <td>0</td>\n",
       "      <td>Philippines</td>\n",
       "      <td>Southeast Asia</td>\n",
       "      <td>Tarlac</td>\n",
       "      <td>Unknown</td>\n",
       "      <td>Assassination</td>\n",
       "      <td>Journalists &amp; Media</td>\n",
       "      <td>Radio Journalist/Staff/Facility</td>\n",
       "      <td>Unknown</td>\n",
       "      <td>Unknown</td>\n",
       "    </tr>\n",
       "    <tr>\n",
       "      <th>3</th>\n",
       "      <td>1970</td>\n",
       "      <td>1</td>\n",
       "      <td>0</td>\n",
       "      <td>Greece</td>\n",
       "      <td>Western Europe</td>\n",
       "      <td>Attica</td>\n",
       "      <td>Athens</td>\n",
       "      <td>Bombing/Explosion</td>\n",
       "      <td>Government (Diplomatic)</td>\n",
       "      <td>Embassy/Consulate</td>\n",
       "      <td>Unknown</td>\n",
       "      <td>Explosives</td>\n",
       "    </tr>\n",
       "    <tr>\n",
       "      <th>4</th>\n",
       "      <td>1970</td>\n",
       "      <td>1</td>\n",
       "      <td>0</td>\n",
       "      <td>Japan</td>\n",
       "      <td>East Asia</td>\n",
       "      <td>Fukouka</td>\n",
       "      <td>Fukouka</td>\n",
       "      <td>Facility/Infrastructure Attack</td>\n",
       "      <td>Government (Diplomatic)</td>\n",
       "      <td>Embassy/Consulate</td>\n",
       "      <td>Unknown</td>\n",
       "      <td>Incendiary</td>\n",
       "    </tr>\n",
       "    <tr>\n",
       "      <th>5</th>\n",
       "      <td>1970</td>\n",
       "      <td>1</td>\n",
       "      <td>1</td>\n",
       "      <td>United States</td>\n",
       "      <td>North America</td>\n",
       "      <td>Illinois</td>\n",
       "      <td>Cairo</td>\n",
       "      <td>Armed Assault</td>\n",
       "      <td>Police</td>\n",
       "      <td>Police Building (headquarters, station, school)</td>\n",
       "      <td>Black Nationalists</td>\n",
       "      <td>Firearms</td>\n",
       "    </tr>\n",
       "    <tr>\n",
       "      <th>6</th>\n",
       "      <td>1970</td>\n",
       "      <td>1</td>\n",
       "      <td>2</td>\n",
       "      <td>Uruguay</td>\n",
       "      <td>South America</td>\n",
       "      <td>Montevideo</td>\n",
       "      <td>Montevideo</td>\n",
       "      <td>Assassination</td>\n",
       "      <td>Police</td>\n",
       "      <td>Police Security Forces/Officers</td>\n",
       "      <td>Tupamaros (Uruguay)</td>\n",
       "      <td>Firearms</td>\n",
       "    </tr>\n",
       "    <tr>\n",
       "      <th>7</th>\n",
       "      <td>1970</td>\n",
       "      <td>1</td>\n",
       "      <td>2</td>\n",
       "      <td>United States</td>\n",
       "      <td>North America</td>\n",
       "      <td>California</td>\n",
       "      <td>Oakland</td>\n",
       "      <td>Bombing/Explosion</td>\n",
       "      <td>Utilities</td>\n",
       "      <td>Electricity</td>\n",
       "      <td>Unknown</td>\n",
       "      <td>Explosives</td>\n",
       "    </tr>\n",
       "    <tr>\n",
       "      <th>8</th>\n",
       "      <td>1970</td>\n",
       "      <td>1</td>\n",
       "      <td>2</td>\n",
       "      <td>United States</td>\n",
       "      <td>North America</td>\n",
       "      <td>Wisconsin</td>\n",
       "      <td>Madison</td>\n",
       "      <td>Facility/Infrastructure Attack</td>\n",
       "      <td>Military</td>\n",
       "      <td>Military Recruiting Station/Academy</td>\n",
       "      <td>New Year's Gang</td>\n",
       "      <td>Incendiary</td>\n",
       "    </tr>\n",
       "    <tr>\n",
       "      <th>9</th>\n",
       "      <td>1970</td>\n",
       "      <td>1</td>\n",
       "      <td>3</td>\n",
       "      <td>United States</td>\n",
       "      <td>North America</td>\n",
       "      <td>Wisconsin</td>\n",
       "      <td>Madison</td>\n",
       "      <td>Facility/Infrastructure Attack</td>\n",
       "      <td>Government (General)</td>\n",
       "      <td>Government Building/Facility/Office</td>\n",
       "      <td>New Year's Gang</td>\n",
       "      <td>Incendiary</td>\n",
       "    </tr>\n",
       "  </tbody>\n",
       "</table>\n",
       "</div>"
      ],
      "text/plain": [
       "   Year  Month  Day             Country                       Region  \\\n",
       "0  1970      7    2  Dominican Republic  Central America & Caribbean   \n",
       "1  1970      0    0              Mexico                North America   \n",
       "2  1970      1    0         Philippines               Southeast Asia   \n",
       "3  1970      1    0              Greece               Western Europe   \n",
       "4  1970      1    0               Japan                    East Asia   \n",
       "5  1970      1    1       United States                North America   \n",
       "6  1970      1    2             Uruguay                South America   \n",
       "7  1970      1    2       United States                North America   \n",
       "8  1970      1    2       United States                North America   \n",
       "9  1970      1    3       United States                North America   \n",
       "\n",
       "        State           City                     Attack_type  \\\n",
       "0     unknown  Santo Domingo                   Assassination   \n",
       "1     Federal    Mexico city     Hostage Taking (Kidnapping)   \n",
       "2      Tarlac        Unknown                   Assassination   \n",
       "3      Attica         Athens               Bombing/Explosion   \n",
       "4     Fukouka        Fukouka  Facility/Infrastructure Attack   \n",
       "5    Illinois          Cairo                   Armed Assault   \n",
       "6  Montevideo     Montevideo                   Assassination   \n",
       "7  California        Oakland               Bombing/Explosion   \n",
       "8   Wisconsin        Madison  Facility/Infrastructure Attack   \n",
       "9   Wisconsin        Madison  Facility/Infrastructure Attack   \n",
       "\n",
       "                   Target_type  \\\n",
       "0  Private Citizens & Property   \n",
       "1      Government (Diplomatic)   \n",
       "2          Journalists & Media   \n",
       "3      Government (Diplomatic)   \n",
       "4      Government (Diplomatic)   \n",
       "5                       Police   \n",
       "6                       Police   \n",
       "7                    Utilities   \n",
       "8                     Military   \n",
       "9         Government (General)   \n",
       "\n",
       "                                      Target_subtype  \\\n",
       "0                                     Named Civilian   \n",
       "1  Diplomatic Personnel (outside of embassy, cons...   \n",
       "2                    Radio Journalist/Staff/Facility   \n",
       "3                                  Embassy/Consulate   \n",
       "4                                  Embassy/Consulate   \n",
       "5    Police Building (headquarters, station, school)   \n",
       "6                    Police Security Forces/Officers   \n",
       "7                                        Electricity   \n",
       "8                Military Recruiting Station/Academy   \n",
       "9                Government Building/Facility/Office   \n",
       "\n",
       "                            Gang_name Weapon_type  \n",
       "0                              MANO-D     Unknown  \n",
       "1  23rd of September Communist League     Unknown  \n",
       "2                             Unknown     Unknown  \n",
       "3                             Unknown  Explosives  \n",
       "4                             Unknown  Incendiary  \n",
       "5                  Black Nationalists    Firearms  \n",
       "6                 Tupamaros (Uruguay)    Firearms  \n",
       "7                             Unknown  Explosives  \n",
       "8                     New Year's Gang  Incendiary  \n",
       "9                     New Year's Gang  Incendiary  "
      ]
     },
     "execution_count": 138,
     "metadata": {},
     "output_type": "execute_result"
    }
   ],
   "source": [
    "data.head(10)"
   ]
  },
  {
   "cell_type": "code",
   "execution_count": 139,
   "id": "2320a348",
   "metadata": {},
   "outputs": [
    {
     "data": {
      "text/plain": [
       "Index(['Year', 'Month', 'Day', 'Country', 'Region', 'State', 'City',\n",
       "       'Attack_type', 'Target_type', 'Target_subtype', 'Gang_name',\n",
       "       'Weapon_type'],\n",
       "      dtype='object')"
      ]
     },
     "execution_count": 139,
     "metadata": {},
     "output_type": "execute_result"
    }
   ],
   "source": [
    "data.columns.unique()"
   ]
  },
  {
   "cell_type": "code",
   "execution_count": 140,
   "id": "bd5a6b99",
   "metadata": {},
   "outputs": [
    {
     "data": {
      "text/plain": [
       "12"
      ]
     },
     "execution_count": 140,
     "metadata": {},
     "output_type": "execute_result"
    }
   ],
   "source": [
    "data.columns.nunique()"
   ]
  },
  {
   "cell_type": "code",
   "execution_count": 141,
   "id": "1cce2b35",
   "metadata": {},
   "outputs": [
    {
     "data": {
      "text/plain": [
       "205"
      ]
     },
     "execution_count": 141,
     "metadata": {},
     "output_type": "execute_result"
    }
   ],
   "source": [
    "Total_countries=data['Country'].nunique()\n",
    "Total_countries"
   ]
  },
  {
   "cell_type": "markdown",
   "id": "ccb9fc9f",
   "metadata": {},
   "source": [
    "**There are 205 Countries in the dataset**"
   ]
  },
  {
   "cell_type": "code",
   "execution_count": 142,
   "id": "deb87deb",
   "metadata": {},
   "outputs": [
    {
     "data": {
      "text/plain": [
       "array(['Central America & Caribbean', 'North America', 'Southeast Asia',\n",
       "       'Western Europe', 'East Asia', 'South America', 'Eastern Europe',\n",
       "       'Sub-Saharan Africa', 'Middle East & North Africa',\n",
       "       'Australasia & Oceania', 'South Asia', 'Central Asia'],\n",
       "      dtype=object)"
      ]
     },
     "execution_count": 142,
     "metadata": {},
     "output_type": "execute_result"
    }
   ],
   "source": [
    "data['Region'].unique()"
   ]
  },
  {
   "cell_type": "code",
   "execution_count": 143,
   "id": "0287e32e",
   "metadata": {},
   "outputs": [
    {
     "data": {
      "text/plain": [
       "12"
      ]
     },
     "execution_count": 143,
     "metadata": {},
     "output_type": "execute_result"
    }
   ],
   "source": [
    "data['Region'].nunique()"
   ]
  },
  {
   "cell_type": "code",
   "execution_count": 144,
   "id": "8b0abd2e",
   "metadata": {},
   "outputs": [
    {
     "data": {
      "text/plain": [
       "array(['Assassination', 'Hostage Taking (Kidnapping)',\n",
       "       'Bombing/Explosion', 'Facility/Infrastructure Attack',\n",
       "       'Armed Assault', 'Hijacking', 'Unknown', 'Unarmed Assault',\n",
       "       'Hostage Taking (Barricade Incident)'], dtype=object)"
      ]
     },
     "execution_count": 144,
     "metadata": {},
     "output_type": "execute_result"
    }
   ],
   "source": [
    "data['Attack_type'].unique()"
   ]
  },
  {
   "cell_type": "code",
   "execution_count": 145,
   "id": "332b8098",
   "metadata": {},
   "outputs": [
    {
     "data": {
      "text/plain": [
       "array(['Private Citizens & Property', 'Government (Diplomatic)',\n",
       "       'Journalists & Media', 'Police', 'Utilities', 'Military',\n",
       "       'Government (General)', 'Airports & Aircraft', 'Business',\n",
       "       'Educational Institution', 'Violent Political Party',\n",
       "       'Religious Figures/Institutions', 'Unknown', 'Transportation',\n",
       "       'Tourists', 'NGO', 'Telecommunication', 'Food or Water Supply',\n",
       "       'Terrorists/Non-State Militia', 'Other', 'Maritime',\n",
       "       'Abortion Related'], dtype=object)"
      ]
     },
     "execution_count": 145,
     "metadata": {},
     "output_type": "execute_result"
    }
   ],
   "source": [
    "data['Target_type'].unique()"
   ]
  },
  {
   "cell_type": "code",
   "execution_count": 146,
   "id": "25e467c5",
   "metadata": {},
   "outputs": [
    {
     "data": {
      "text/plain": [
       "array(['MANO-D', '23rd of September Communist League', 'Unknown', ...,\n",
       "       'Fatoni Warriors', 'Minorities of Metropolitan Attacks',\n",
       "       'Baloch Republican Party'], dtype=object)"
      ]
     },
     "execution_count": 146,
     "metadata": {},
     "output_type": "execute_result"
    }
   ],
   "source": [
    "data['Gang_name'].unique()"
   ]
  },
  {
   "cell_type": "code",
   "execution_count": 147,
   "id": "43dabb47",
   "metadata": {},
   "outputs": [
    {
     "data": {
      "text/plain": [
       "3537"
      ]
     },
     "execution_count": 147,
     "metadata": {},
     "output_type": "execute_result"
    }
   ],
   "source": [
    "data['Gang_name'].nunique()"
   ]
  },
  {
   "cell_type": "markdown",
   "id": "df37eac2",
   "metadata": {},
   "source": [
    "**There are 3537 Gangs**"
   ]
  },
  {
   "cell_type": "code",
   "execution_count": 148,
   "id": "ffe7240d",
   "metadata": {},
   "outputs": [
    {
     "data": {
      "text/plain": [
       "array(['Unknown', 'Explosives', 'Incendiary', 'Firearms', 'Chemical',\n",
       "       'Melee', 'Sabotage Equipment',\n",
       "       'Vehicle (not to include vehicle-borne explosives, i.e., car or truck bombs)',\n",
       "       'Fake Weapons', 'Radiological', 'Other', 'Biological'],\n",
       "      dtype=object)"
      ]
     },
     "execution_count": 148,
     "metadata": {},
     "output_type": "execute_result"
    }
   ],
   "source": [
    "data['Weapon_type'].unique()"
   ]
  },
  {
   "cell_type": "code",
   "execution_count": 149,
   "id": "6a14fc63",
   "metadata": {},
   "outputs": [
    {
     "data": {
      "text/html": [
       "<div>\n",
       "<style scoped>\n",
       "    .dataframe tbody tr th:only-of-type {\n",
       "        vertical-align: middle;\n",
       "    }\n",
       "\n",
       "    .dataframe tbody tr th {\n",
       "        vertical-align: top;\n",
       "    }\n",
       "\n",
       "    .dataframe thead th {\n",
       "        text-align: right;\n",
       "    }\n",
       "</style>\n",
       "<table border=\"1\" class=\"dataframe\">\n",
       "  <thead>\n",
       "    <tr style=\"text-align: right;\">\n",
       "      <th></th>\n",
       "      <th>Year</th>\n",
       "      <th>Month</th>\n",
       "      <th>Day</th>\n",
       "    </tr>\n",
       "  </thead>\n",
       "  <tbody>\n",
       "    <tr>\n",
       "      <th>count</th>\n",
       "      <td>181691.000000</td>\n",
       "      <td>181691.000000</td>\n",
       "      <td>181691.000000</td>\n",
       "    </tr>\n",
       "    <tr>\n",
       "      <th>mean</th>\n",
       "      <td>2002.638997</td>\n",
       "      <td>6.467277</td>\n",
       "      <td>15.505644</td>\n",
       "    </tr>\n",
       "    <tr>\n",
       "      <th>std</th>\n",
       "      <td>13.259430</td>\n",
       "      <td>3.388303</td>\n",
       "      <td>8.814045</td>\n",
       "    </tr>\n",
       "    <tr>\n",
       "      <th>min</th>\n",
       "      <td>1970.000000</td>\n",
       "      <td>0.000000</td>\n",
       "      <td>0.000000</td>\n",
       "    </tr>\n",
       "    <tr>\n",
       "      <th>25%</th>\n",
       "      <td>1991.000000</td>\n",
       "      <td>4.000000</td>\n",
       "      <td>8.000000</td>\n",
       "    </tr>\n",
       "    <tr>\n",
       "      <th>50%</th>\n",
       "      <td>2009.000000</td>\n",
       "      <td>6.000000</td>\n",
       "      <td>15.000000</td>\n",
       "    </tr>\n",
       "    <tr>\n",
       "      <th>75%</th>\n",
       "      <td>2014.000000</td>\n",
       "      <td>9.000000</td>\n",
       "      <td>23.000000</td>\n",
       "    </tr>\n",
       "    <tr>\n",
       "      <th>max</th>\n",
       "      <td>2017.000000</td>\n",
       "      <td>12.000000</td>\n",
       "      <td>31.000000</td>\n",
       "    </tr>\n",
       "  </tbody>\n",
       "</table>\n",
       "</div>"
      ],
      "text/plain": [
       "                Year          Month            Day\n",
       "count  181691.000000  181691.000000  181691.000000\n",
       "mean     2002.638997       6.467277      15.505644\n",
       "std        13.259430       3.388303       8.814045\n",
       "min      1970.000000       0.000000       0.000000\n",
       "25%      1991.000000       4.000000       8.000000\n",
       "50%      2009.000000       6.000000      15.000000\n",
       "75%      2014.000000       9.000000      23.000000\n",
       "max      2017.000000      12.000000      31.000000"
      ]
     },
     "execution_count": 149,
     "metadata": {},
     "output_type": "execute_result"
    }
   ],
   "source": [
    "data.describe()"
   ]
  },
  {
   "cell_type": "code",
   "execution_count": 150,
   "id": "1b02a10f",
   "metadata": {},
   "outputs": [
    {
     "name": "stdout",
     "output_type": "stream",
     "text": [
      "<class 'pandas.core.frame.DataFrame'>\n",
      "RangeIndex: 181691 entries, 0 to 181690\n",
      "Data columns (total 12 columns):\n",
      " #   Column          Non-Null Count   Dtype \n",
      "---  ------          --------------   ----- \n",
      " 0   Year            181691 non-null  int64 \n",
      " 1   Month           181691 non-null  int64 \n",
      " 2   Day             181691 non-null  int64 \n",
      " 3   Country         181691 non-null  object\n",
      " 4   Region          181691 non-null  object\n",
      " 5   State           181691 non-null  object\n",
      " 6   City            181691 non-null  object\n",
      " 7   Attack_type     181691 non-null  object\n",
      " 8   Target_type     181691 non-null  object\n",
      " 9   Target_subtype  181691 non-null  object\n",
      " 10  Gang_name       181691 non-null  object\n",
      " 11  Weapon_type     181691 non-null  object\n",
      "dtypes: int64(3), object(9)\n",
      "memory usage: 16.6+ MB\n"
     ]
    }
   ],
   "source": [
    "data.info()"
   ]
  },
  {
   "cell_type": "code",
   "execution_count": 151,
   "id": "38c60384",
   "metadata": {},
   "outputs": [
    {
     "data": {
      "text/plain": [
       "Iraq              24636\n",
       "Pakistan          14368\n",
       "Afghanistan       12731\n",
       "India             11960\n",
       "Colombia           8306\n",
       "Philippines        6908\n",
       "Peru               6096\n",
       "El Salvador        5320\n",
       "United Kingdom     5235\n",
       "Turkey             4292\n",
       "Name: Country, dtype: int64"
      ]
     },
     "execution_count": 151,
     "metadata": {},
     "output_type": "execute_result"
    }
   ],
   "source": [
    "#view top 10 countries\n",
    "data['Country'].value_counts().head(10)\n",
    "\n"
   ]
  },
  {
   "cell_type": "markdown",
   "id": "c0836a68",
   "metadata": {},
   "source": [
    "**These are the top 10 affected countries.**"
   ]
  },
  {
   "cell_type": "code",
   "execution_count": 152,
   "id": "e7599aba",
   "metadata": {},
   "outputs": [
    {
     "data": {
      "text/plain": [
       "Middle East & North Africa     50474\n",
       "South Asia                     44974\n",
       "South America                  18978\n",
       "Sub-Saharan Africa             17550\n",
       "Western Europe                 16639\n",
       "Southeast Asia                 12485\n",
       "Central America & Caribbean    10344\n",
       "Eastern Europe                  5144\n",
       "North America                   3456\n",
       "East Asia                        802\n",
       "Name: Region, dtype: int64"
      ]
     },
     "execution_count": 152,
     "metadata": {},
     "output_type": "execute_result"
    }
   ],
   "source": [
    "data['Region'].value_counts().head(10)"
   ]
  },
  {
   "cell_type": "markdown",
   "id": "fcda4a2a",
   "metadata": {},
   "source": [
    "These are top 10 affected Regions"
   ]
  },
  {
   "cell_type": "code",
   "execution_count": 153,
   "id": "fcbda2e5",
   "metadata": {},
   "outputs": [
    {
     "data": {
      "text/plain": [
       "Baghdad               7645\n",
       "Northern Ireland      4498\n",
       "Unknown               4290\n",
       "Balochistan           3710\n",
       "Saladin               3411\n",
       "Al Anbar              3299\n",
       "Nineveh               3241\n",
       "Sindh                 3206\n",
       "Khyber Pakhtunkhwa    3084\n",
       "Diyala                3041\n",
       "Name: State, dtype: int64"
      ]
     },
     "execution_count": 153,
     "metadata": {},
     "output_type": "execute_result"
    }
   ],
   "source": [
    "data['State'].value_counts().head(10)"
   ]
  },
  {
   "cell_type": "markdown",
   "id": "48a86df7",
   "metadata": {},
   "source": [
    "**These are top 10 affected states**"
   ]
  },
  {
   "cell_type": "code",
   "execution_count": 154,
   "id": "9de012f1",
   "metadata": {},
   "outputs": [
    {
     "data": {
      "text/plain": [
       "Unnamed Civilian/Unspecified                               11596\n",
       "Police Security Forces/Officers                            11178\n",
       "others                                                     10373\n",
       "Military Unit/Patrol/Convoy                                 8277\n",
       "Military Personnel (soldiers, troops, officers, forces)     7963\n",
       "Government Personnel (excluding police, military)           6610\n",
       "Village/City/Town/Suburb                                    6542\n",
       "Politician or Political Party Movement/Meeting/Rally        6306\n",
       "Police Building (headquarters, station, school)             5907\n",
       "Military Barracks/Base/Headquarters/Checkpost               5211\n",
       "Name: Target_subtype, dtype: int64"
      ]
     },
     "execution_count": 154,
     "metadata": {},
     "output_type": "execute_result"
    }
   ],
   "source": [
    "data['Target_subtype'].value_counts().head(10)"
   ]
  },
  {
   "cell_type": "code",
   "execution_count": 155,
   "id": "0c880125",
   "metadata": {},
   "outputs": [
    {
     "data": {
      "text/plain": [
       "Unknown         9775\n",
       "Baghdad         7589\n",
       "Karachi         2652\n",
       "Lima            2359\n",
       "Mosul           2265\n",
       "Belfast         2171\n",
       "Santiago        1621\n",
       "Mogadishu       1581\n",
       "San Salvador    1558\n",
       "Istanbul        1048\n",
       "Name: City, dtype: int64"
      ]
     },
     "execution_count": 155,
     "metadata": {},
     "output_type": "execute_result"
    }
   ],
   "source": [
    "data['City'].value_counts().head(10)"
   ]
  },
  {
   "cell_type": "markdown",
   "id": "e930194a",
   "metadata": {},
   "source": [
    "**These are the top 10 affected cities.**\n",
    "\n"
   ]
  },
  {
   "cell_type": "code",
   "execution_count": 156,
   "id": "7710634d",
   "metadata": {},
   "outputs": [
    {
     "data": {
      "text/plain": [
       "Bombing/Explosion                      88255\n",
       "Armed Assault                          42669\n",
       "Assassination                          19312\n",
       "Hostage Taking (Kidnapping)            11158\n",
       "Facility/Infrastructure Attack         10356\n",
       "Unknown                                 7276\n",
       "Unarmed Assault                         1015\n",
       "Hostage Taking (Barricade Incident)      991\n",
       "Hijacking                                659\n",
       "Name: Attack_type, dtype: int64"
      ]
     },
     "execution_count": 156,
     "metadata": {},
     "output_type": "execute_result"
    }
   ],
   "source": [
    "data['Attack_type'].value_counts().head(10)"
   ]
  },
  {
   "cell_type": "markdown",
   "id": "bdcdf0cb",
   "metadata": {},
   "source": [
    "**These are the top 10 chosen attacking modes.**\n",
    "\n"
   ]
  },
  {
   "cell_type": "code",
   "execution_count": 157,
   "id": "8d87b033",
   "metadata": {},
   "outputs": [
    {
     "data": {
      "text/plain": [
       "Private Citizens & Property       43511\n",
       "Military                          27984\n",
       "Police                            24506\n",
       "Government (General)              21283\n",
       "Business                          20669\n",
       "Transportation                     6799\n",
       "Utilities                          6023\n",
       "Unknown                            5898\n",
       "Religious Figures/Institutions     4440\n",
       "Educational Institution            4322\n",
       "Name: Target_type, dtype: int64"
      ]
     },
     "execution_count": 157,
     "metadata": {},
     "output_type": "execute_result"
    }
   ],
   "source": [
    "data['Target_type'].value_counts().head(10)"
   ]
  },
  {
   "cell_type": "markdown",
   "id": "21a64559",
   "metadata": {},
   "source": [
    "These are the top 10 target types"
   ]
  },
  {
   "cell_type": "code",
   "execution_count": 158,
   "id": "e9d0f525",
   "metadata": {},
   "outputs": [
    {
     "data": {
      "text/plain": [
       "Unknown                                             82782\n",
       "Taliban                                              7478\n",
       "Islamic State of Iraq and the Levant (ISIL)          5613\n",
       "Shining Path (SL)                                    4555\n",
       "Farabundo Marti National Liberation Front (FMLN)     3351\n",
       "Al-Shabaab                                           3288\n",
       "New People's Army (NPA)                              2772\n",
       "Irish Republican Army (IRA)                          2671\n",
       "Revolutionary Armed Forces of Colombia (FARC)        2487\n",
       "Boko Haram                                           2418\n",
       "Name: Gang_name, dtype: int64"
      ]
     },
     "execution_count": 158,
     "metadata": {},
     "output_type": "execute_result"
    }
   ],
   "source": [
    "data['Gang_name'].value_counts().head(10)"
   ]
  },
  {
   "cell_type": "markdown",
   "id": "d419d832",
   "metadata": {},
   "source": [
    "**These are the most dangerous and leading top 10 gangs.**"
   ]
  },
  {
   "cell_type": "code",
   "execution_count": 159,
   "id": "caf75119",
   "metadata": {},
   "outputs": [
    {
     "data": {
      "text/plain": [
       "Explosives                                                                     92426\n",
       "Firearms                                                                       58524\n",
       "Unknown                                                                        15157\n",
       "Incendiary                                                                     11135\n",
       "Melee                                                                           3655\n",
       "Chemical                                                                         321\n",
       "Sabotage Equipment                                                               141\n",
       "Vehicle (not to include vehicle-borne explosives, i.e., car or truck bombs)      136\n",
       "Other                                                                            114\n",
       "Biological                                                                        35\n",
       "Name: Weapon_type, dtype: int64"
      ]
     },
     "execution_count": 159,
     "metadata": {},
     "output_type": "execute_result"
    }
   ],
   "source": [
    "data['Weapon_type'].value_counts().head(10)"
   ]
  },
  {
   "cell_type": "markdown",
   "id": "0b7baa9c",
   "metadata": {},
   "source": [
    "**These are the most chosen weapons for attacks.**\n",
    "\n"
   ]
  },
  {
   "cell_type": "markdown",
   "id": "040e7cfd",
   "metadata": {},
   "source": [
    "## Visualizations"
   ]
  },
  {
   "cell_type": "markdown",
   "id": "05ffbfbf",
   "metadata": {},
   "source": [
    "**Now let us find some hot zones using visualizations.** "
   ]
  },
  {
   "cell_type": "code",
   "execution_count": 160,
   "id": "ed4511c1",
   "metadata": {},
   "outputs": [
    {
     "data": {
      "image/png": "[encoded data removed]",
      "text/plain": [
       "<Figure size 1440x360 with 1 Axes>"
      ]
     },
     "metadata": {
      "needs_background": "light"
     },
     "output_type": "display_data"
    }
   ],
   "source": [
    "plt.figure(figsize=(20,5));\n",
    "sns.countplot(x=data.Weapon_type);"
   ]
  },
  {
   "cell_type": "markdown",
   "id": "c9e24f5a",
   "metadata": {},
   "source": [
    "\n",
    "**Most of the attacks were attacked through explosives and then through firearms.**"
   ]
  },
  {
   "cell_type": "code",
   "execution_count": 122,
   "id": "d692a097",
   "metadata": {},
   "outputs": [
    {
     "data": {
      "image/png": "[encoded data removed]",
      "text/plain": [
       "<Figure size 1440x360 with 1 Axes>"
      ]
     },
     "metadata": {
      "needs_background": "light"
     },
     "output_type": "display_data"
    }
   ],
   "source": [
    "plt.figure(figsize=(20,5));\n",
    "plt.xticks(rotation = 90)\n",
    "plt.title('Attacks by Year')\n",
    "sns.countplot(x=data.Year);\n"
   ]
  },
  {
   "cell_type": "markdown",
   "id": "a8be7981",
   "metadata": {},
   "source": [
    "**Attacks were more during 2014 and then in 2015. When compared to attacks from 1970 onwards, the last 6 years scored a maximum. But from 2014 onwards count started decreasing.**"
   ]
  },
  {
   "cell_type": "code",
   "execution_count": 123,
   "id": "eef76a7f",
   "metadata": {},
   "outputs": [
    {
     "data": {
      "image/png": "[encoded data removed]",
      "text/plain": [
       "<Figure size 1440x360 with 1 Axes>"
      ]
     },
     "metadata": {
      "needs_background": "light"
     },
     "output_type": "display_data"
    }
   ],
   "source": [
    "plt.figure(figsize=(20,5));\n",
    "plt.title('Attacks by Month')\n",
    "sns.countplot(x=data.Month);"
   ]
  },
  {
   "cell_type": "markdown",
   "id": "67030b96",
   "metadata": {},
   "source": [
    "**Almost every month has the same contribution.**"
   ]
  },
  {
   "cell_type": "code",
   "execution_count": 161,
   "id": "af254c33",
   "metadata": {},
   "outputs": [
    {
     "data": {
      "image/png": "[encoded data removed]",
      "text/plain": [
       "<Figure size 1440x360 with 1 Axes>"
      ]
     },
     "metadata": {
      "needs_background": "light"
     },
     "output_type": "display_data"
    }
   ],
   "source": [
    "plt.figure(figsize=(20,5));\n",
    "plt.title('Attacks by Day')\n",
    "sns.countplot(x=data.Day);"
   ]
  },
  {
   "cell_type": "markdown",
   "id": "57b4dc47",
   "metadata": {},
   "source": [
    "**Almost Every day has the same contribution but attacks were low during 31st and high during 15th and 1st.**\n",
    "\n"
   ]
  },
  {
   "cell_type": "code",
   "execution_count": 162,
   "id": "8f33ca6c",
   "metadata": {},
   "outputs": [
    {
     "data": {
      "image/png": "[encoded data removed]",
      "text/plain": [
       "<Figure size 2160x360 with 1 Axes>"
      ]
     },
     "metadata": {
      "needs_background": "light"
     },
     "output_type": "display_data"
    }
   ],
   "source": [
    "plt.figure(figsize=(30,5));\n",
    "plt.rcParams.update({'font.size':8});\n",
    "plt.xticks(rotation = 90)\n",
    "plt.title('Attacks by Country')\n",
    "sns.countplot(x=data.Country);"
   ]
  },
  {
   "cell_type": "markdown",
   "id": "2bb2af9c",
   "metadata": {},
   "source": [
    "**Iraq dominates all the countries and it has the highest number of attacks and then Pakistan, Afghanistan, and India follow it. Government should increase safety measures in these countries.**"
   ]
  },
  {
   "cell_type": "code",
   "execution_count": 163,
   "id": "c83ec928",
   "metadata": {},
   "outputs": [
    {
     "data": {
      "image/png": "[encoded data removed]",
      "text/plain": [
       "<Figure size 2016x360 with 1 Axes>"
      ]
     },
     "metadata": {
      "needs_background": "light"
     },
     "output_type": "display_data"
    }
   ],
   "source": [
    "plt.figure(figsize=(28,5));\n",
    "plt.rcParams.update({'font.size':10});\n",
    "plt.xticks(rotation = 0)\n",
    "plt.title('Attacks by Region')\n",
    "sns.countplot(x=data.Region);\n"
   ]
  },
  {
   "cell_type": "markdown",
   "id": "d85fdc96",
   "metadata": {},
   "source": [
    "**The Middle East& North Africa leads 1st among all the regions and then South Asia takes 2nd place.**"
   ]
  },
  {
   "cell_type": "code",
   "execution_count": 164,
   "id": "b437a43c",
   "metadata": {},
   "outputs": [
    {
     "data": {
      "image/png": "[encoded data removed]",
      "text/plain": [
       "<Figure size 1440x360 with 1 Axes>"
      ]
     },
     "metadata": {
      "needs_background": "light"
     },
     "output_type": "display_data"
    }
   ],
   "source": [
    "plt.figure(figsize=(20,5));\n",
    "plt.rcParams.update({'font.size':10});\n",
    "plt.xticks(rotation = 90)\n",
    "plt.title('Based on Target type')\n",
    "sns.countplot(x=data.Target_type);"
   ]
  },
  {
   "cell_type": "markdown",
   "id": "83948d14",
   "metadata": {},
   "source": [
    "**For most of the attacks, the target is Private Citizens& property and the next Military leads.**\n",
    "\n"
   ]
  },
  {
   "cell_type": "code",
   "execution_count": 128,
   "id": "f5b29af8",
   "metadata": {},
   "outputs": [
    {
     "data": {
      "image/png": "[encoded data removed]",
      "text/plain": [
       "<Figure size 1800x360 with 1 Axes>"
      ]
     },
     "metadata": {
      "needs_background": "light"
     },
     "output_type": "display_data"
    }
   ],
   "source": [
    "plt.figure(figsize=(25,5));\n",
    "plt.rcParams.update({'font.size':12});\n",
    "plt.xticks(rotation = 0)\n",
    "plt.title('Based on Attack type')\n",
    "sns.countplot(x=data.Attack_type);"
   ]
  },
  {
   "cell_type": "markdown",
   "id": "93a286a2",
   "metadata": {},
   "source": [
    "**Most of the attacks were through either Bombing or Explosion.**"
   ]
  },
  {
   "cell_type": "markdown",
   "id": "7440fa1c",
   "metadata": {},
   "source": [
    "## Results of Analysis"
   ]
  },
  {
   "cell_type": "markdown",
   "id": "6dcd17cb",
   "metadata": {},
   "source": [
    "1) Most of the attacks were attacked through explosives and then through firearms.\n",
    "\n",
    "2) Attacks were more during 2014 and then in 2015. When compared to attacks from 1970 onwards, the last 6 years scored a maximum. But from 2014 onwards count started decreasing.\n",
    "\n",
    "3) Almost Every day has the same contribution but attacks were low during 31st and high during 15th and 1st.\n",
    "\n",
    "4) Iraq dominates all the countries and it has the highest number of attacks and then Pakistan, Afghanistan, and India follow it.\n",
    "\n",
    "5) The Middle East& North Africa leads 1st among all the regions and then South Asia takes 2nd place.\n",
    "\n",
    "6) For most of the attacks, the target is Private Citizens& property and the next Military leads.\n",
    "\n",
    "7) Most of the attacks were through either Bombing or Explosion."
   ]
  },
  {
   "cell_type": "markdown",
   "id": "2e4064d1",
   "metadata": {},
   "source": [
    "## Measures to be Taken to Reduce Terrorism\n"
   ]
  },
  {
   "cell_type": "markdown",
   "id": "18acb865",
   "metadata": {},
   "source": [
    "1) By reducing access to dangerous weapons\n",
    "\n",
    "2) Government should provide more security over countries\n",
    "\n",
    "3) Security should be strengthened across borders\n",
    "\n",
    "4) Government should take measures on increased immigration\n",
    "\n",
    "5) and many more…"
   ]
  },
  {
   "cell_type": "markdown",
   "id": "e4011554",
   "metadata": {},
   "source": [
    "# Thank you"
   ]
  }
 ],
 "metadata": {
  "kernelspec": {
   "display_name": "Python 3",
   "language": "python",
   "name": "python3"
  },
  "language_info": {
   "codemirror_mode": {
    "name": "ipython",
    "version": 3
   },
   "file_extension": ".py",
   "mimetype": "text/x-python",
   "name": "python",
   "nbconvert_exporter": "python",
   "pygments_lexer": "ipython3",
   "version": "3.8.8"
  }
 },
 "nbformat": 4,
 "nbformat_minor": 5
}
